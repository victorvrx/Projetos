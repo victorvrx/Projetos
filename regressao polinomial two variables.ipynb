{
 "cells": [
  {
   "cell_type": "code",
   "execution_count": 18,
   "id": "3a642dbb-d19a-4499-b68f-93732049b981",
   "metadata": {},
   "outputs": [],
   "source": [
    "import pandas as pd\n",
    "import numpy as np\n",
    "import matplotlib.pyplot as plt\n",
    "import seaborn as sns\n",
    "from sklearn.linear_model import LinearRegression\n",
    "from sklearn.metrics import r2_score\n",
    "import statsmodels.api as sm"
   ]
  },
  {
   "cell_type": "code",
   "execution_count": 19,
   "id": "24813f1c-cd41-460f-bbae-a42da0bc1f8b",
   "metadata": {},
   "outputs": [
    {
     "data": {
      "text/plain": [
       "('automobileEDA.csv', <http.client.HTTPMessage at 0x13a56ffa040>)"
      ]
     },
     "execution_count": 19,
     "metadata": {},
     "output_type": "execute_result"
    }
   ],
   "source": [
    "from urllib import request\n",
    "file_url ='https://cf-courses-data.s3.us.cloud-object-storage.appdomain.cloud/IBMDeveloperSkillsNetwork-DA0101EN-SkillsNetwork/labs/Data%20files/automobileEDA.csv'\n",
    "file = 'automobileEDA.csv'\n",
    "request.urlretrieve(file_url , file )"
   ]
  },
  {
   "cell_type": "code",
   "execution_count": 20,
   "id": "b603e2c4-9eae-43ce-8092-ceb0778510ad",
   "metadata": {},
   "outputs": [],
   "source": [
    "df = pd.read_csv(file)"
   ]
  },
  {
   "cell_type": "code",
   "execution_count": 21,
   "id": "ffc8afee-a3ed-497e-9482-40c682f30271",
   "metadata": {},
   "outputs": [],
   "source": [
    "X=df[\"price\"]\n",
    "Z = df[['horsepower', 'curb-weight', 'engine-size', 'highway-mpg']]"
   ]
  },
  {
   "cell_type": "code",
   "execution_count": 22,
   "id": "5c6a4379-9bfb-4333-8b66-f3c2b8ed456a",
   "metadata": {},
   "outputs": [
    {
     "data": {
      "text/html": [
       "<div>\n",
       "<style scoped>\n",
       "    .dataframe tbody tr th:only-of-type {\n",
       "        vertical-align: middle;\n",
       "    }\n",
       "\n",
       "    .dataframe tbody tr th {\n",
       "        vertical-align: top;\n",
       "    }\n",
       "\n",
       "    .dataframe thead th {\n",
       "        text-align: right;\n",
       "    }\n",
       "</style>\n",
       "<table border=\"1\" class=\"dataframe\">\n",
       "  <thead>\n",
       "    <tr style=\"text-align: right;\">\n",
       "      <th></th>\n",
       "      <th>horsepower</th>\n",
       "      <th>curb-weight</th>\n",
       "      <th>engine-size</th>\n",
       "      <th>highway-mpg</th>\n",
       "    </tr>\n",
       "  </thead>\n",
       "  <tbody>\n",
       "    <tr>\n",
       "      <th>0</th>\n",
       "      <td>111.0</td>\n",
       "      <td>2548</td>\n",
       "      <td>130</td>\n",
       "      <td>27</td>\n",
       "    </tr>\n",
       "    <tr>\n",
       "      <th>1</th>\n",
       "      <td>111.0</td>\n",
       "      <td>2548</td>\n",
       "      <td>130</td>\n",
       "      <td>27</td>\n",
       "    </tr>\n",
       "    <tr>\n",
       "      <th>2</th>\n",
       "      <td>154.0</td>\n",
       "      <td>2823</td>\n",
       "      <td>152</td>\n",
       "      <td>26</td>\n",
       "    </tr>\n",
       "    <tr>\n",
       "      <th>3</th>\n",
       "      <td>102.0</td>\n",
       "      <td>2337</td>\n",
       "      <td>109</td>\n",
       "      <td>30</td>\n",
       "    </tr>\n",
       "    <tr>\n",
       "      <th>4</th>\n",
       "      <td>115.0</td>\n",
       "      <td>2824</td>\n",
       "      <td>136</td>\n",
       "      <td>22</td>\n",
       "    </tr>\n",
       "    <tr>\n",
       "      <th>...</th>\n",
       "      <td>...</td>\n",
       "      <td>...</td>\n",
       "      <td>...</td>\n",
       "      <td>...</td>\n",
       "    </tr>\n",
       "    <tr>\n",
       "      <th>196</th>\n",
       "      <td>114.0</td>\n",
       "      <td>2952</td>\n",
       "      <td>141</td>\n",
       "      <td>28</td>\n",
       "    </tr>\n",
       "    <tr>\n",
       "      <th>197</th>\n",
       "      <td>160.0</td>\n",
       "      <td>3049</td>\n",
       "      <td>141</td>\n",
       "      <td>25</td>\n",
       "    </tr>\n",
       "    <tr>\n",
       "      <th>198</th>\n",
       "      <td>134.0</td>\n",
       "      <td>3012</td>\n",
       "      <td>173</td>\n",
       "      <td>23</td>\n",
       "    </tr>\n",
       "    <tr>\n",
       "      <th>199</th>\n",
       "      <td>106.0</td>\n",
       "      <td>3217</td>\n",
       "      <td>145</td>\n",
       "      <td>27</td>\n",
       "    </tr>\n",
       "    <tr>\n",
       "      <th>200</th>\n",
       "      <td>114.0</td>\n",
       "      <td>3062</td>\n",
       "      <td>141</td>\n",
       "      <td>25</td>\n",
       "    </tr>\n",
       "  </tbody>\n",
       "</table>\n",
       "<p>201 rows × 4 columns</p>\n",
       "</div>"
      ],
      "text/plain": [
       "     horsepower  curb-weight  engine-size  highway-mpg\n",
       "0         111.0         2548          130           27\n",
       "1         111.0         2548          130           27\n",
       "2         154.0         2823          152           26\n",
       "3         102.0         2337          109           30\n",
       "4         115.0         2824          136           22\n",
       "..          ...          ...          ...          ...\n",
       "196       114.0         2952          141           28\n",
       "197       160.0         3049          141           25\n",
       "198       134.0         3012          173           23\n",
       "199       106.0         3217          145           27\n",
       "200       114.0         3062          141           25\n",
       "\n",
       "[201 rows x 4 columns]"
      ]
     },
     "execution_count": 22,
     "metadata": {},
     "output_type": "execute_result"
    }
   ],
   "source": [
    "Z"
   ]
  },
  {
   "cell_type": "code",
   "execution_count": 23,
   "id": "6c7adb06-ddb5-41c4-901c-08f5c7d221c8",
   "metadata": {},
   "outputs": [
    {
     "data": {
      "text/plain": [
       "PolynomialFeatures()"
      ]
     },
     "execution_count": 23,
     "metadata": {},
     "output_type": "execute_result"
    }
   ],
   "source": [
    "from sklearn.preprocessing import PolynomialFeatures\n",
    "pr=PolynomialFeatures(degree=2)\n",
    "pr"
   ]
  },
  {
   "cell_type": "code",
   "execution_count": 24,
   "id": "5c5ebba5-c25c-4089-8095-744a1ab4d676",
   "metadata": {},
   "outputs": [],
   "source": [
    "Z_pr=pr.fit_transform(Z)"
   ]
  },
  {
   "cell_type": "code",
   "execution_count": 25,
   "id": "7262d03b-9299-413b-8060-34099e6bb159",
   "metadata": {},
   "outputs": [
    {
     "data": {
      "text/plain": [
       "LinearRegression()"
      ]
     },
     "execution_count": 25,
     "metadata": {},
     "output_type": "execute_result"
    }
   ],
   "source": [
    "clf = LinearRegression()\n",
    "#preform the actual regression\n",
    "clf.fit(Z_pr, X)"
   ]
  },
  {
   "cell_type": "code",
   "execution_count": 58,
   "id": "d7b71abe-0290-41d8-90c0-1a3054f49c31",
   "metadata": {},
   "outputs": [
    {
     "data": {
      "text/plain": [
       "[[111.0, 2548.0, 130.0, 27.0],\n",
       " [111.0, 2548.0, 130.0, 27.0],\n",
       " [154.0, 2823.0, 152.0, 26.0],\n",
       " [102.0, 2337.0, 109.0, 30.0],\n",
       " [115.0, 2824.0, 136.0, 22.0],\n",
       " [110.0, 2507.0, 136.0, 25.0],\n",
       " [110.0, 2844.0, 136.0, 25.0],\n",
       " [110.0, 2954.0, 136.0, 25.0],\n",
       " [140.0, 3086.0, 131.0, 20.0],\n",
       " [101.0, 2395.0, 108.0, 29.0]]"
      ]
     },
     "execution_count": 58,
     "metadata": {},
     "output_type": "execute_result"
    }
   ],
   "source": [
    "predict = list()\n",
    "for i in Z.index:\n",
    "    predict1 = Z.iloc[i].values.tolist()\n",
    "    predict.append(predict1)\n",
    "predict[:10]"
   ]
  },
  {
   "cell_type": "code",
   "execution_count": 59,
   "id": "720d643e-1908-4a5a-ac66-4be879cd38ca",
   "metadata": {},
   "outputs": [],
   "source": [
    " from sklearn.preprocessing import PolynomialFeatures"
   ]
  },
  {
   "cell_type": "code",
   "execution_count": 61,
   "id": "b7c27902-9bfb-43b3-8ffe-8071f7275e43",
   "metadata": {},
   "outputs": [
    {
     "ename": "NameError",
     "evalue": "name 'poly' is not defined",
     "output_type": "error",
     "traceback": [
      "\u001b[1;31m---------------------------------------------------------------------------\u001b[0m",
      "\u001b[1;31mNameError\u001b[0m                                 Traceback (most recent call last)",
      "\u001b[1;32m<ipython-input-61-8df1db96421a>\u001b[0m in \u001b[0;36m<module>\u001b[1;34m\u001b[0m\n\u001b[0;32m      2\u001b[0m \u001b[1;32mfor\u001b[0m \u001b[0mi\u001b[0m \u001b[1;32min\u001b[0m \u001b[0mpredict\u001b[0m\u001b[1;33m:\u001b[0m\u001b[1;33m\u001b[0m\u001b[1;33m\u001b[0m\u001b[0m\n\u001b[0;32m      3\u001b[0m     \u001b[0mpredict_parametros\u001b[0m\u001b[1;33m=\u001b[0m \u001b[1;33m[\u001b[0m\u001b[0mi\u001b[0m\u001b[1;33m]\u001b[0m\u001b[1;33m\u001b[0m\u001b[1;33m\u001b[0m\u001b[0m\n\u001b[1;32m----> 4\u001b[1;33m     \u001b[0mpreco\u001b[0m\u001b[1;33m=\u001b[0m \u001b[0mclf\u001b[0m\u001b[1;33m.\u001b[0m\u001b[0mpredict\u001b[0m\u001b[1;33m(\u001b[0m\u001b[0mpoly\u001b[0m\u001b[1;33m.\u001b[0m\u001b[0mfit_transform\u001b[0m\u001b[1;33m(\u001b[0m\u001b[0mpredict_parametros\u001b[0m\u001b[1;33m)\u001b[0m\u001b[1;33m)\u001b[0m\u001b[1;33m\u001b[0m\u001b[1;33m\u001b[0m\u001b[0m\n\u001b[0m\u001b[0;32m      5\u001b[0m     \u001b[0mpredict_precos\u001b[0m\u001b[1;33m.\u001b[0m\u001b[0mappend\u001b[0m\u001b[1;33m(\u001b[0m\u001b[0mpreco\u001b[0m\u001b[1;33m)\u001b[0m\u001b[1;33m\u001b[0m\u001b[1;33m\u001b[0m\u001b[0m\n\u001b[0;32m      6\u001b[0m \u001b[1;33m\u001b[0m\u001b[0m\n",
      "\u001b[1;31mNameError\u001b[0m: name 'poly' is not defined"
     ]
    }
   ],
   "source": [
    "\n",
    "predict_precos = []\n",
    "for i in predict:\n",
    "    predict_parametros= [i]\n",
    "    preco= clf.predict(poly.fit_transform(predict_parametros))\n",
    "    predict_precos.append(preco)\n",
    "\n",
    "predict_precos[:10]"
   ]
  },
  {
   "cell_type": "code",
   "execution_count": 28,
   "id": "63b9fbf9-2111-4390-8130-eefe3db83821",
   "metadata": {},
   "outputs": [
    {
     "ename": "ValueError",
     "evalue": "need at least one array to concatenate",
     "output_type": "error",
     "traceback": [
      "\u001b[1;31m---------------------------------------------------------------------------\u001b[0m",
      "\u001b[1;31mValueError\u001b[0m                                Traceback (most recent call last)",
      "\u001b[1;32m<ipython-input-28-738576d9838a>\u001b[0m in \u001b[0;36m<module>\u001b[1;34m\u001b[0m\n\u001b[1;32m----> 1\u001b[1;33m \u001b[0mnp\u001b[0m\u001b[1;33m.\u001b[0m\u001b[0mvstack\u001b[0m\u001b[1;33m(\u001b[0m\u001b[0mpredict_precos\u001b[0m\u001b[1;33m)\u001b[0m\u001b[1;33m[\u001b[0m\u001b[1;33m:\u001b[0m\u001b[1;36m10\u001b[0m\u001b[1;33m]\u001b[0m\u001b[1;33m\u001b[0m\u001b[1;33m\u001b[0m\u001b[0m\n\u001b[0m",
      "\u001b[1;32m<__array_function__ internals>\u001b[0m in \u001b[0;36mvstack\u001b[1;34m(*args, **kwargs)\u001b[0m\n",
      "\u001b[1;32m~\\anaconda3\\lib\\site-packages\\numpy\\core\\shape_base.py\u001b[0m in \u001b[0;36mvstack\u001b[1;34m(tup)\u001b[0m\n\u001b[0;32m    281\u001b[0m     \u001b[1;32mif\u001b[0m \u001b[1;32mnot\u001b[0m \u001b[0misinstance\u001b[0m\u001b[1;33m(\u001b[0m\u001b[0marrs\u001b[0m\u001b[1;33m,\u001b[0m \u001b[0mlist\u001b[0m\u001b[1;33m)\u001b[0m\u001b[1;33m:\u001b[0m\u001b[1;33m\u001b[0m\u001b[1;33m\u001b[0m\u001b[0m\n\u001b[0;32m    282\u001b[0m         \u001b[0marrs\u001b[0m \u001b[1;33m=\u001b[0m \u001b[1;33m[\u001b[0m\u001b[0marrs\u001b[0m\u001b[1;33m]\u001b[0m\u001b[1;33m\u001b[0m\u001b[1;33m\u001b[0m\u001b[0m\n\u001b[1;32m--> 283\u001b[1;33m     \u001b[1;32mreturn\u001b[0m \u001b[0m_nx\u001b[0m\u001b[1;33m.\u001b[0m\u001b[0mconcatenate\u001b[0m\u001b[1;33m(\u001b[0m\u001b[0marrs\u001b[0m\u001b[1;33m,\u001b[0m \u001b[1;36m0\u001b[0m\u001b[1;33m)\u001b[0m\u001b[1;33m\u001b[0m\u001b[1;33m\u001b[0m\u001b[0m\n\u001b[0m\u001b[0;32m    284\u001b[0m \u001b[1;33m\u001b[0m\u001b[0m\n\u001b[0;32m    285\u001b[0m \u001b[1;33m\u001b[0m\u001b[0m\n",
      "\u001b[1;32m<__array_function__ internals>\u001b[0m in \u001b[0;36mconcatenate\u001b[1;34m(*args, **kwargs)\u001b[0m\n",
      "\u001b[1;31mValueError\u001b[0m: need at least one array to concatenate"
     ]
    }
   ],
   "source": [
    "np.vstack(predict_precos)[:10]"
   ]
  },
  {
   "cell_type": "code",
   "execution_count": 51,
   "id": "7917af8b-d9a0-4400-b409-7213f3918d66",
   "metadata": {},
   "outputs": [],
   "source": [
    "df2 = pd.DataFrame(predict_precos,columns=['results of price estimated'])"
   ]
  },
  {
   "cell_type": "code",
   "execution_count": 52,
   "id": "c14b267d-1ec5-4590-a576-4bf321f83dbe",
   "metadata": {},
   "outputs": [
    {
     "data": {
      "text/html": [
       "<div>\n",
       "<style scoped>\n",
       "    .dataframe tbody tr th:only-of-type {\n",
       "        vertical-align: middle;\n",
       "    }\n",
       "\n",
       "    .dataframe tbody tr th {\n",
       "        vertical-align: top;\n",
       "    }\n",
       "\n",
       "    .dataframe thead th {\n",
       "        text-align: right;\n",
       "    }\n",
       "</style>\n",
       "<table border=\"1\" class=\"dataframe\">\n",
       "  <thead>\n",
       "    <tr style=\"text-align: right;\">\n",
       "      <th></th>\n",
       "      <th>results of price estimated</th>\n",
       "    </tr>\n",
       "  </thead>\n",
       "  <tbody>\n",
       "  </tbody>\n",
       "</table>\n",
       "</div>"
      ],
      "text/plain": [
       "Empty DataFrame\n",
       "Columns: [results of price estimated]\n",
       "Index: []"
      ]
     },
     "execution_count": 52,
     "metadata": {},
     "output_type": "execute_result"
    }
   ],
   "source": [
    "df2"
   ]
  },
  {
   "cell_type": "code",
   "execution_count": 29,
   "id": "e4bf289d-8833-43a6-8b4e-9a3608f19ba9",
   "metadata": {},
   "outputs": [
    {
     "data": {
      "text/plain": [
       "PolynomialFeatures(degree=5, include_bias=False)"
      ]
     },
     "execution_count": 29,
     "metadata": {},
     "output_type": "execute_result"
    }
   ],
   "source": [
    "from sklearn.preprocessing import PolynomialFeatures\n",
    "pr2=PolynomialFeatures(include_bias=False,degree=5)\n",
    "pr2"
   ]
  },
  {
   "cell_type": "code",
   "execution_count": 30,
   "id": "6bc34c7d-2ba6-40ca-8b56-fb515d7d4edc",
   "metadata": {},
   "outputs": [],
   "source": [
    "Z_pr2=pr2.fit_transform(Z)"
   ]
  },
  {
   "cell_type": "code",
   "execution_count": 31,
   "id": "e2c81627-facb-4f95-8e52-c1a707096ea7",
   "metadata": {},
   "outputs": [
    {
     "data": {
      "text/plain": [
       "array([[1.11000000e+02, 2.54800000e+03, 1.30000000e+02, ...,\n",
       "        3.32642700e+08, 6.90873300e+07, 1.43489070e+07],\n",
       "       [1.11000000e+02, 2.54800000e+03, 1.30000000e+02, ...,\n",
       "        3.32642700e+08, 6.90873300e+07, 1.43489070e+07],\n",
       "       [1.54000000e+02, 2.82300000e+03, 1.52000000e+02, ...,\n",
       "        4.06075904e+08, 6.94603520e+07, 1.18813760e+07],\n",
       "       ...,\n",
       "       [1.34000000e+02, 3.01200000e+03, 1.73000000e+02, ...,\n",
       "        3.64146143e+08, 4.84124930e+07, 6.43634300e+06],\n",
       "       [1.06000000e+02, 3.21700000e+03, 1.45000000e+02, ...,\n",
       "        4.13835075e+08, 7.70589450e+07, 1.43489070e+07],\n",
       "       [1.14000000e+02, 3.06200000e+03, 1.41000000e+02, ...,\n",
       "        3.10640625e+08, 5.50781250e+07, 9.76562500e+06]])"
      ]
     },
     "execution_count": 31,
     "metadata": {},
     "output_type": "execute_result"
    }
   ],
   "source": [
    "Z_pr2"
   ]
  },
  {
   "cell_type": "code",
   "execution_count": 32,
   "id": "a6b9fe4e-77fd-41fc-9a06-d97454ae6bb2",
   "metadata": {},
   "outputs": [
    {
     "data": {
      "text/plain": [
       "LinearRegression()"
      ]
     },
     "execution_count": 32,
     "metadata": {},
     "output_type": "execute_result"
    }
   ],
   "source": [
    "clf2 = LinearRegression()\n",
    "#preform the actual regression\n",
    "clf2.fit(Z_pr2, X)"
   ]
  },
  {
   "cell_type": "code",
   "execution_count": 33,
   "id": "72840e9d-012e-4490-8091-c1dfbb0eda71",
   "metadata": {},
   "outputs": [],
   "source": [
    "y_predict= clf2.predict(pr2.fit_transform(Z))\n"
   ]
  },
  {
   "cell_type": "code",
   "execution_count": 34,
   "id": "3b5167e9-7ad0-4578-bda0-f58f7ab43d79",
   "metadata": {},
   "outputs": [
    {
     "data": {
      "text/plain": [
       "array([15487.24017722, 15487.24017722, 17151.58804745, 12085.38778968,\n",
       "       17769.96621878, 15511.06009299, 16240.39940626, 18816.89164967,\n",
       "       23753.08683879, 13570.13873441, 13570.13873441, 20542.42638225,\n",
       "       20930.64417452, 25388.3795187 , 31015.6772861 , 41069.86353154,\n",
       "       36983.89766736,  5170.25161774,  5732.27716393,  6633.82804119,\n",
       "        5540.97694259,  5901.43414476,  7794.41346688,  6854.05110017,\n",
       "        6988.96801371,  6988.96801371,  8092.56028701,  8670.48186029,\n",
       "       13411.96120519,  6503.24942855,  7376.20883689,  4607.2784705 ,\n",
       "        7096.79416121,  7314.96216092,  7847.04226423,  7917.14741058,\n",
       "        8007.75733609,  8741.64470191,  8978.83114828, 10148.73489512,\n",
       "       15102.67713506, 11118.09368766,  7151.67458613, 11260.22916419,\n",
       "       33892.92010016, 33892.92010016, 36002.35037512,  5111.79309223,\n",
       "        6238.91430021,  6285.93943662,  6672.28152464,  6718.54023997,\n",
       "       11159.31232036, 11159.31232036, 13953.66910172, 15794.60722507,\n",
       "       10313.1349851 , 10043.61825461, 10313.1349851 , 10043.61825461,\n",
       "       11852.61609794,  9937.74482513, 16831.81340689, 17650.29310269,\n",
       "       25467.73349185, 28126.54113049, 27983.18247552, 31799.71440358,\n",
       "       34392.92873282, 34837.55019326, 40976.42269988, 45383.32961268,\n",
       "       16524.88638813,  6145.39030916,  6629.68755467,  7103.11057175,\n",
       "        7834.83695049,  9711.27407707,  8724.68888796, 13273.67574591,\n",
       "       14099.62871737, 14198.30775923,  8599.31422825,  8757.66408295,\n",
       "        9439.79167164,  9439.79167164,  6962.87069479,  7225.08432249,\n",
       "        6552.43185014,  6423.92517737,  6790.36043234,  6395.67970706,\n",
       "        6830.17418868,  6422.77086536,  6923.929779  ,  6644.78185884,\n",
       "        9385.36959154,  9546.9986319 , 13286.54632086, 14377.83370299,\n",
       "       14368.62040276, 17548.10296554, 19838.62132497, 17438.66140504,\n",
       "       13996.0869673 , 14588.24455208, 13208.9304573 , 13893.54252619,\n",
       "       15860.06429441, 16972.28243727, 16194.06327982, 17044.66457839,\n",
       "       14594.24167843, 16972.28243727, 17947.71478004,  6010.91313251,\n",
       "        7794.41346688,  6854.05110017,  6988.96801371,  8463.40571005,\n",
       "        8670.48186029, 13349.73550124, 22553.15463478, 33162.64206166,\n",
       "       33162.64206166, 37256.20736808, 10836.7545454 ,  9947.02200861,\n",
       "       15005.92157812, 14630.0166821 , 14474.64831121, 13593.22359104,\n",
       "       18308.3771996 , 18123.83917553,  7166.52608711,  6950.15698106,\n",
       "        6601.68813051,  7832.29211981,  7423.03279723,  9937.59109522,\n",
       "        8327.98405666, 12750.96679492,  9045.85092355, 10668.16902263,\n",
       "        9611.39308185, 11557.17166925,  5749.28998596,  6405.41637228,\n",
       "        6227.97899104,  5908.85840682,  7732.52059249,  8814.14315207,\n",
       "        7326.15055535,  7687.88669784,  7651.75409079,  7199.66613606,\n",
       "        7599.50708643,  8232.07732443,  8511.91728745,  8916.52281157,\n",
       "        9320.73172081,  8909.05785949, 10474.93227316,  9568.36038572,\n",
       "        9556.19022519,  9620.32493884, 11391.73264463, 12024.33040292,\n",
       "       17180.76431126,  6953.47487003, 11245.5841002 ,  8552.4366879 ,\n",
       "        8552.4366879 ,  9304.4565732 , 15013.16620798, 14816.15528292,\n",
       "       16830.48459787, 16403.30497975,  7933.9666941 ,  7773.88146759,\n",
       "        8029.25137777,  7804.23408718,  8660.81574614, 10002.05510343,\n",
       "        9805.83860905, 11407.89383841, 10997.73223836, 13291.20889933,\n",
       "       13573.90489978, 11233.89376993, 14120.44804949, 15920.92788191,\n",
       "       14331.20605976, 16102.25086207, 18286.67076249, 19167.81159753,\n",
       "       14522.65550966, 18893.5569932 , 21604.78117222, 22260.20865531,\n",
       "       22287.56049282])"
      ]
     },
     "execution_count": 34,
     "metadata": {},
     "output_type": "execute_result"
    }
   ],
   "source": [
    "y_predict"
   ]
  },
  {
   "cell_type": "code",
   "execution_count": 35,
   "id": "13815787-bd59-4d57-bebc-ebd0a85d9f50",
   "metadata": {},
   "outputs": [
    {
     "name": "stderr",
     "output_type": "stream",
     "text": [
      "C:\\Users\\victo\\anaconda3\\lib\\site-packages\\seaborn\\distributions.py:2557: FutureWarning: `distplot` is a deprecated function and will be removed in a future version. Please adapt your code to use either `displot` (a figure-level function with similar flexibility) or `kdeplot` (an axes-level function for kernel density plots).\n",
      "  warnings.warn(msg, FutureWarning)\n",
      "C:\\Users\\victo\\anaconda3\\lib\\site-packages\\seaborn\\distributions.py:2557: FutureWarning: `distplot` is a deprecated function and will be removed in a future version. Please adapt your code to use either `displot` (a figure-level function with similar flexibility) or `kdeplot` (an axes-level function for kernel density plots).\n",
      "  warnings.warn(msg, FutureWarning)\n"
     ]
    },
    {
     "data": {
      "image/png": "[encoded data removed]",
      "text/plain": [
       "<Figure size 864x864 with 1 Axes>"
      ]
     },
     "metadata": {
      "needs_background": "light"
     },
     "output_type": "display_data"
    }
   ],
   "source": [
    "\n",
    "\n",
    "plt.figure(figsize=(12,12))\n",
    "\n",
    "\n",
    "sns.distplot(df['price'], hist=False, color=\"r\", label=\"Actual Value\")\n",
    "sns.distplot(y_predict, hist=False, color=\"b\", label=\"Fitted Values\" )\n",
    "\n",
    "plt.legend([\"Actual Values\",\"Fitted Values\"])\n",
    "plt.title('Actual vs Fitted Values for Price')\n",
    "plt.xlabel('Price (in dollars)')\n",
    "plt.ylabel('Proportion of Cars')\n",
    "\n",
    "plt.show()"
   ]
  },
  {
   "cell_type": "code",
   "execution_count": 36,
   "id": "a34e55fe-b044-4daf-8567-d25987a44ed6",
   "metadata": {},
   "outputs": [
    {
     "data": {
      "text/plain": [
       "array([ 0.00000000e+00,  3.79990747e+02,  9.53081616e+00, -1.06265103e+02,\n",
       "        1.82168928e+02,  1.69423474e+00, -1.86864385e-01, -1.29043091e+00,\n",
       "       -2.14860065e+00,  7.57100954e-04,  1.11910005e-01, -1.92007463e-01,\n",
       "        8.95252693e-02,  4.23869258e-02,  4.66019878e+00])"
      ]
     },
     "execution_count": 36,
     "metadata": {},
     "output_type": "execute_result"
    }
   ],
   "source": [
    "clf.coef_"
   ]
  },
  {
   "cell_type": "code",
   "execution_count": 37,
   "id": "c839e618-5c0d-45be-985f-63f1bf2ddc61",
   "metadata": {},
   "outputs": [
    {
     "data": {
      "text/plain": [
       "-21262.848277367608"
      ]
     },
     "execution_count": 37,
     "metadata": {},
     "output_type": "execute_result"
    }
   ],
   "source": [
    "clf.intercept_"
   ]
  },
  {
   "cell_type": "code",
   "execution_count": 38,
   "id": "a35b07b1-c2c7-49ff-961a-888593428709",
   "metadata": {},
   "outputs": [
    {
     "data": {
      "text/plain": [
       "array([-4.59318213e-01,  7.25861433e-04, -1.32916490e-04, -5.81766369e-05,\n",
       "       -2.67180348e-03, -1.12313412e-02, -3.44060504e-03,  7.23533955e-04,\n",
       "        3.21315221e-02, -8.02292062e-02, -2.10992557e-02, -1.14963461e-02,\n",
       "       -1.62900341e-03, -6.53963964e-04,  1.91579444e-01, -1.25614009e-01,\n",
       "        6.94054834e-02,  5.32161778e-02, -5.05169603e-02,  8.49638363e-01,\n",
       "        1.30652700e+00,  7.37329653e-02,  2.99161626e-02,  2.60049165e-02,\n",
       "       -9.78000255e-04,  7.77143810e-02,  1.92842094e-02, -1.04843431e+00,\n",
       "       -7.05534307e-01, -5.23770357e-01, -8.70768530e-03, -1.58455633e-01,\n",
       "       -7.21615171e-03, -1.88329096e-02,  8.94797864e-02, -5.06185687e-03,\n",
       "       -4.75208604e-01,  7.99929351e-01,  4.79344372e-04,  8.61522261e-03,\n",
       "       -3.05221914e-02,  7.43612404e-01, -1.38419058e+00, -2.36026965e-01,\n",
       "        5.35883920e-05, -2.71766702e-03, -1.82676731e-03,  1.69044093e-02,\n",
       "        1.93608975e-01, -1.02310250e-01, -5.09656390e-01, -1.09708548e+00,\n",
       "        4.10005839e-01,  9.30304976e-01,  2.35947659e-06, -2.18336213e-04,\n",
       "       -4.99112051e-05,  6.87043228e-03,  5.33643144e-03, -1.68090952e-03,\n",
       "       -7.90880391e-02, -2.48430176e-01,  1.46089148e-01,  6.32705225e-03,\n",
       "        4.26325410e-01,  2.46365964e+00, -1.51537104e+00,  5.44947410e-01,\n",
       "       -9.15316324e-01, -2.82303556e-06, -5.02937489e-05,  8.82654668e-04,\n",
       "       -1.86120898e-03,  1.25874492e-06,  2.01595817e-04, -9.66211480e-05,\n",
       "       -3.10166385e-03,  9.77044201e-03, -1.28426926e-02, -2.22224649e-07,\n",
       "        3.43961032e-06,  1.93859888e-05, -3.26192947e-04, -8.38089937e-04,\n",
       "        7.83514200e-04,  3.87571441e-03, -4.87940841e-03,  2.40833145e-02,\n",
       "       -3.35412453e-03, -7.07618023e-09,  6.36537021e-07, -7.56594536e-07,\n",
       "       -1.23216316e-05,  6.02548759e-06,  5.44027225e-05,  2.80024808e-04,\n",
       "        9.15123787e-04, -4.84029713e-03,  2.33454615e-03, -2.27415255e-03,\n",
       "       -4.11346352e-03,  3.03741434e-02, -4.36445876e-03, -2.88272873e-02,\n",
       "       -3.10633265e-10,  2.43265867e-08, -1.65486701e-08, -6.71623805e-07,\n",
       "        2.29377744e-06,  2.24460863e-07,  5.63592758e-06, -8.74015774e-05,\n",
       "       -4.46485060e-05,  7.75044239e-06, -2.67934503e-05,  1.08610274e-03,\n",
       "        3.95744251e-03, -3.85739297e-03,  1.30724235e-03,  1.37572294e-04,\n",
       "       -5.67223593e-03, -4.26509808e-02,  3.87261430e-02, -5.14443559e-03,\n",
       "        4.64251079e-03])"
      ]
     },
     "execution_count": 38,
     "metadata": {},
     "output_type": "execute_result"
    }
   ],
   "source": [
    "clf2.coef_"
   ]
  },
  {
   "cell_type": "code",
   "execution_count": 39,
   "id": "a54d9dd3-d151-4521-8264-1a3116910108",
   "metadata": {},
   "outputs": [
    {
     "data": {
      "text/plain": [
       "-241978.27293305728"
      ]
     },
     "execution_count": 39,
     "metadata": {},
     "output_type": "execute_result"
    }
   ],
   "source": [
    "clf2.intercept_"
   ]
  },
  {
   "cell_type": "code",
   "execution_count": 40,
   "id": "b3905ff9-05f4-46d1-b12a-a491bee96db3",
   "metadata": {},
   "outputs": [
    {
     "name": "stdout",
     "output_type": "stream",
     "text": [
      "                            OLS Regression Results                            \n",
      "==============================================================================\n",
      "Dep. Variable:                  price   R-squared:                       0.846\n",
      "Model:                            OLS   Adj. R-squared:                  0.835\n",
      "Method:                 Least Squares   F-statistic:                     73.17\n",
      "Date:                Sat, 16 Jul 2022   Prob (F-statistic):           9.36e-68\n",
      "Time:                        11:22:02   Log-Likelihood:                -1901.6\n",
      "No. Observations:                 201   AIC:                             3833.\n",
      "Df Residuals:                     186   BIC:                             3883.\n",
      "Df Model:                          14                                         \n",
      "Covariance Type:            nonrobust                                         \n",
      "==============================================================================\n",
      "                 coef    std err          t      P>|t|      [0.025      0.975]\n",
      "------------------------------------------------------------------------------\n",
      "const      -2.126e+04   6.41e+04     -0.332      0.740   -1.48e+05    1.05e+05\n",
      "x1           379.9907    384.086      0.989      0.324    -377.734    1137.715\n",
      "x2             9.5308     29.974      0.318      0.751     -49.601      68.663\n",
      "x3          -106.2651    275.098     -0.386      0.700    -648.979     436.449\n",
      "x4           182.1689   1973.328      0.092      0.927   -3710.812    4075.150\n",
      "x5             1.6942      0.614      2.760      0.006       0.483       2.905\n",
      "x6            -0.1869      0.075     -2.503      0.013      -0.334      -0.040\n",
      "x7            -1.2904      0.731     -1.766      0.079      -2.732       0.151\n",
      "x8            -2.1486      6.943     -0.309      0.757     -15.845      11.548\n",
      "x9             0.0008      0.004      0.177      0.860      -0.008       0.009\n",
      "x10            0.1119      0.083      1.353      0.178      -0.051       0.275\n",
      "x11           -0.1920      0.440     -0.437      0.663      -1.060       0.675\n",
      "x12            0.0895      0.426      0.210      0.834      -0.751       0.930\n",
      "x13            0.0424      4.801      0.009      0.993      -9.429       9.514\n",
      "x14            4.6602     15.333      0.304      0.762     -25.590      34.910\n",
      "==============================================================================\n",
      "Omnibus:                       39.675   Durbin-Watson:                   0.890\n",
      "Prob(Omnibus):                  0.000   Jarque-Bera (JB):              134.471\n",
      "Skew:                           0.743   Prob(JB):                     6.31e-30\n",
      "Kurtosis:                       6.721   Cond. No.                     2.08e+09\n",
      "==============================================================================\n",
      "\n",
      "Notes:\n",
      "[1] Standard Errors assume that the covariance matrix of the errors is correctly specified.\n",
      "[2] The condition number is large, 2.08e+09. This might indicate that there are\n",
      "strong multicollinearity or other numerical problems.\n"
     ]
    }
   ],
   "source": [
    "\n",
    "model= sm.OLS(X,Z_pr).fit()\n",
    "print(model.summary())"
   ]
  },
  {
   "cell_type": "code",
   "execution_count": null,
   "id": "1f97e343-a2e8-4181-9585-9106eee0ed9b",
   "metadata": {},
   "outputs": [],
   "source": []
  },
  {
   "cell_type": "code",
   "execution_count": 62,
   "id": "30278e37-9193-4f42-b964-e49a7ea644bb",
   "metadata": {},
   "outputs": [
    {
     "data": {
      "text/plain": [
       "870664.6368004197"
      ]
     },
     "execution_count": 62,
     "metadata": {},
     "output_type": "execute_result"
    }
   ],
   "source": [
    "mean_squared_error(X, y_predict)"
   ]
  },
  {
   "cell_type": "code",
   "execution_count": 63,
   "id": "d126d7e4-ea41-4b99-bb50-04d9005992c5",
   "metadata": {},
   "outputs": [
    {
     "name": "stdout",
     "output_type": "stream",
     "text": [
      "                            OLS Regression Results                            \n",
      "==============================================================================\n",
      "Dep. Variable:                  price   R-squared:                       0.983\n",
      "Model:                            OLS   Adj. R-squared:                  0.973\n",
      "Method:                 Least Squares   F-statistic:                     90.58\n",
      "Date:                Sat, 16 Jul 2022   Prob (F-statistic):           5.39e-81\n",
      "Time:                        11:29:09   Log-Likelihood:                -1678.1\n",
      "No. Observations:                 201   AIC:                             3516.\n",
      "Df Residuals:                     121   BIC:                             3780.\n",
      "Df Model:                          79                                         \n",
      "Covariance Type:            nonrobust                                         \n",
      "==============================================================================\n",
      "                 coef    std err          t      P>|t|      [0.025      0.975]\n",
      "------------------------------------------------------------------------------\n",
      "x1            -0.0007      0.001     -1.179      0.241      -0.002       0.000\n",
      "x2             0.0002      0.000      0.553      0.581      -0.000       0.001\n",
      "x3          1.522e-05    1.5e-05      1.012      0.313   -1.45e-05     4.5e-05\n",
      "x4          1.231e-05   1.03e-05      1.190      0.236   -8.17e-06    3.28e-05\n",
      "x5         -5.201e-05      0.000     -0.124      0.902      -0.001       0.001\n",
      "x6            -0.0023      0.006     -0.412      0.681      -0.013       0.009\n",
      "x7             0.0001      0.000      0.375      0.709      -0.001       0.001\n",
      "x8             0.0002      0.000      0.696      0.488      -0.000       0.001\n",
      "x9             0.0234      0.149      0.157      0.876      -0.272       0.319\n",
      "x10            0.0029      0.007      0.403      0.688      -0.011       0.017\n",
      "x11            0.0068      0.006      1.175      0.242      -0.005       0.018\n",
      "x12            0.0003      0.000      0.787      0.433      -0.000       0.001\n",
      "x13            0.0004      0.000      1.197      0.233      -0.000       0.001\n",
      "x14            0.0003      0.000      1.458      0.147      -0.000       0.001\n",
      "x15            0.0256      0.015      1.736      0.085      -0.004       0.055\n",
      "x16            0.2427      0.138      1.757      0.081      -0.031       0.516\n",
      "x17            0.0192      0.013      1.430      0.155      -0.007       0.046\n",
      "x18           -0.0082      0.013     -0.639      0.524      -0.034       0.017\n",
      "x19           -0.0285      0.015     -1.894      0.061      -0.058       0.001\n",
      "x20            0.1325      0.120      1.101      0.273      -0.106       0.371\n",
      "x21           -0.0838      0.135     -0.619      0.537      -0.352       0.184\n",
      "x22            0.0096      0.014      0.676      0.500      -0.019       0.038\n",
      "x23           -0.0012      0.008     -0.146      0.884      -0.017       0.015\n",
      "x24            0.0089      0.007      1.340      0.183      -0.004       0.022\n",
      "x25            0.0007      0.000      1.523      0.130      -0.000       0.002\n",
      "x26           -0.0034      0.010     -0.329      0.743      -0.024       0.017\n",
      "x27           -0.0044      0.008     -0.541      0.589      -0.020       0.012\n",
      "x28           -0.0146      0.075     -0.196      0.845      -0.163       0.133\n",
      "x29            0.0200      0.037      0.547      0.586      -0.052       0.092\n",
      "x30            0.1655      0.130      1.272      0.206      -0.092       0.423\n",
      "x31           -0.0092      0.013     -0.693      0.490      -0.035       0.017\n",
      "x32            0.0037      0.005      0.776      0.439      -0.006       0.013\n",
      "x33            0.0087      0.009      1.008      0.315      -0.008       0.026\n",
      "x34            0.0012      0.001      1.274      0.205      -0.001       0.003\n",
      "x35           -0.0067      0.067     -0.100      0.920      -0.140       0.126\n",
      "x36            0.0050      0.007      0.724      0.470      -0.009       0.019\n",
      "x37           -0.1471      0.143     -1.032      0.304      -0.429       0.135\n",
      "x38           -0.1076      0.131     -0.822      0.413      -0.367       0.152\n",
      "x39            0.0002      0.000      0.590      0.556      -0.000       0.001\n",
      "x40           -0.0185      0.014     -1.333      0.185      -0.046       0.009\n",
      "x41            0.0026      0.014      0.178      0.859      -0.026       0.031\n",
      "x42            0.4221      0.186      2.274      0.025       0.055       0.790\n",
      "x43           -0.0337      0.137     -0.246      0.806      -0.305       0.238\n",
      "x44           -0.1351      0.140     -0.965      0.336      -0.412       0.142\n",
      "x45        -4.808e-07   1.35e-05     -0.036      0.972   -2.73e-05    2.63e-05\n",
      "x46           -0.0002      0.001     -0.230      0.819      -0.001       0.001\n",
      "x47            0.0011      0.001      1.635      0.105      -0.000       0.002\n",
      "x48            0.0140      0.014      1.011      0.314      -0.013       0.041\n",
      "x49            0.0036      0.016      0.228      0.820      -0.028       0.035\n",
      "x50           -0.0092      0.012     -0.757      0.451      -0.033       0.015\n",
      "x51           -0.3313      0.154     -2.155      0.033      -0.636      -0.027\n",
      "x52           -0.0968      0.073     -1.330      0.186      -0.241       0.047\n",
      "x53           -0.0139      0.056     -0.248      0.805      -0.125       0.097\n",
      "x54            0.1911      0.129      1.481      0.141      -0.064       0.447\n",
      "x55        -8.797e-07   4.94e-07     -1.781      0.077   -1.86e-06    9.79e-08\n",
      "x56         5.245e-05   3.04e-05      1.724      0.087   -7.77e-06       0.000\n",
      "x57          7.44e-06   2.11e-05      0.352      0.725   -3.44e-05    4.93e-05\n",
      "x58           -0.0011      0.001     -1.554      0.123      -0.002       0.000\n",
      "x59           -0.0024      0.001     -2.015      0.046      -0.005   -4.08e-05\n",
      "x60            0.0008      0.000      2.135      0.035    5.95e-05       0.002\n",
      "x61            0.0070      0.008      0.913      0.363      -0.008       0.022\n",
      "x62            0.0380      0.018      2.162      0.033       0.003       0.073\n",
      "x63           -0.0057      0.008     -0.720      0.473      -0.021       0.010\n",
      "x64           -0.0046      0.010     -0.461      0.646      -0.024       0.015\n",
      "x65            0.0471      0.039      1.202      0.232      -0.031       0.125\n",
      "x66           -0.1501      0.086     -1.743      0.084      -0.321       0.020\n",
      "x67            0.0311      0.063      0.498      0.619      -0.093       0.155\n",
      "x68            0.0211      0.110      0.192      0.848      -0.197       0.239\n",
      "x69           -0.2316      0.194     -1.194      0.235      -0.615       0.152\n",
      "x70            0.0002   8.88e-05      1.867      0.064      -1e-05       0.000\n",
      "x71        -2.398e-05   1.68e-05     -1.426      0.156   -5.73e-05    9.31e-06\n",
      "x72           -0.0004      0.000     -1.476      0.143      -0.001       0.000\n",
      "x73            0.0016      0.001      1.344      0.181      -0.001       0.004\n",
      "x74        -9.268e-07   1.65e-06     -0.562      0.575   -4.19e-06    2.34e-06\n",
      "x75            0.0002    4.6e-05      3.465      0.001    6.83e-05       0.000\n",
      "x76           -0.0003      0.000     -1.903      0.059      -0.001    1.29e-05\n",
      "x77           -0.0005      0.000     -1.000      0.319      -0.001       0.000\n",
      "x78            0.0007      0.002      0.339      0.735      -0.003       0.005\n",
      "x79            0.0071      0.003      2.609      0.010       0.002       0.012\n",
      "x80        -1.615e-07   5.97e-08     -2.708      0.008    -2.8e-07   -4.34e-08\n",
      "x81         7.437e-06   3.96e-06      1.879      0.063      -4e-07    1.53e-05\n",
      "x82         1.862e-05    1.2e-05      1.554      0.123   -5.09e-06    4.23e-05\n",
      "x83           -0.0003   9.95e-05     -3.297      0.001      -0.001      -0.000\n",
      "x84            0.0001      0.000      0.430      0.668      -0.000       0.001\n",
      "x85           -0.0007      0.000     -2.384      0.019      -0.001      -0.000\n",
      "x86            0.0019      0.001      3.619      0.000       0.001       0.003\n",
      "x87           -0.0022      0.003     -0.751      0.454      -0.008       0.004\n",
      "x88         7.699e-05      0.006      0.014      0.989      -0.011       0.011\n",
      "x89            0.0029      0.003      1.045      0.298      -0.003       0.008\n",
      "x90         3.181e-09   3.77e-09      0.844      0.401   -4.28e-09    1.06e-08\n",
      "x91         8.297e-08   2.24e-07      0.370      0.712   -3.61e-07    5.27e-07\n",
      "x92        -4.059e-07   5.16e-07     -0.787      0.433   -1.43e-06    6.15e-07\n",
      "x93        -6.818e-06   4.94e-06     -1.381      0.170   -1.66e-05    2.96e-06\n",
      "x94        -1.466e-05   1.81e-05     -0.811      0.419   -5.05e-05    2.11e-05\n",
      "x95         6.355e-06   1.92e-05      0.331      0.741   -3.17e-05    4.44e-05\n",
      "x96            0.0002   7.98e-05      3.085      0.003    8.82e-05       0.000\n",
      "x97            0.0003      0.000      0.976      0.331      -0.000       0.001\n",
      "x98           -0.0002      0.000     -0.399      0.691      -0.001       0.001\n",
      "x99            0.0005      0.000      0.935      0.352      -0.001       0.001\n",
      "x100          -0.0016      0.000     -4.368      0.000      -0.002      -0.001\n",
      "x101          -0.0013      0.002     -0.552      0.582      -0.006       0.003\n",
      "x102           0.0045      0.006      0.758      0.450      -0.007       0.016\n",
      "x103          -0.0025      0.007     -0.353      0.724      -0.016       0.011\n",
      "x104          -0.0068      0.004     -1.623      0.107      -0.015       0.001\n",
      "x105        3.271e-11   7.93e-11      0.413      0.681   -1.24e-10     1.9e-10\n",
      "x106       -2.643e-09   5.85e-09     -0.452      0.652   -1.42e-08    8.94e-09\n",
      "x107        2.049e-08   8.73e-09      2.347      0.021     3.2e-09    3.78e-08\n",
      "x108       -1.081e-08   2.16e-07     -0.050      0.960   -4.38e-07    4.16e-07\n",
      "x109       -1.127e-06   9.07e-07     -1.243      0.216   -2.92e-06    6.68e-07\n",
      "x110       -6.434e-07    3.9e-07     -1.648      0.102   -1.42e-06    1.29e-07\n",
      "x111        2.339e-06   3.96e-06      0.591      0.556    -5.5e-06    1.02e-05\n",
      "x112         3.29e-05   2.82e-05      1.166      0.246    -2.3e-05    8.88e-05\n",
      "x113        6.903e-05   3.66e-05      1.887      0.062   -3.41e-06       0.000\n",
      "x114         -3.8e-05   1.51e-05     -2.518      0.013   -6.79e-05   -8.13e-06\n",
      "x115       -6.806e-05   3.84e-05     -1.775      0.078      -0.000    7.87e-06\n",
      "x116          -0.0004      0.000     -1.251      0.213      -0.001       0.000\n",
      "x117          -0.0011      0.001     -1.439      0.153      -0.003       0.000\n",
      "x118          -0.0002      0.000     -0.550      0.583      -0.001       0.001\n",
      "x119           0.0009      0.000      2.561      0.012       0.000       0.002\n",
      "x120           0.0004      0.000      2.775      0.006       0.000       0.001\n",
      "x121           0.0024      0.002      1.471      0.144      -0.001       0.006\n",
      "x122           0.0031      0.005      0.582      0.562      -0.007       0.013\n",
      "x123           0.0070      0.005      1.288      0.200      -0.004       0.018\n",
      "x124          -0.0058      0.003     -1.802      0.074      -0.012       0.001\n",
      "x125          -0.0019      0.003     -0.719      0.473      -0.007       0.003\n",
      "==============================================================================\n",
      "Omnibus:                        6.307   Durbin-Watson:                   1.771\n",
      "Prob(Omnibus):                  0.043   Jarque-Bera (JB):                9.081\n",
      "Skew:                           0.140   Prob(JB):                       0.0107\n",
      "Kurtosis:                       4.003   Cond. No.                     5.28e+16\n",
      "==============================================================================\n",
      "\n",
      "Notes:\n",
      "[1] Standard Errors assume that the covariance matrix of the errors is correctly specified.\n",
      "[2] The condition number is large, 5.28e+16. This might indicate that there are\n",
      "strong multicollinearity or other numerical problems.\n"
     ]
    }
   ],
   "source": [
    "model2= sm.OLS(X,Z_pr2).fit()\n",
    "print(model2.summary())"
   ]
  },
  {
   "cell_type": "markdown",
   "id": "b2a00969-1e7c-43fa-8736-99882f9e13da",
   "metadata": {},
   "source": [
    "# Pipeline "
   ]
  },
  {
   "cell_type": "code",
   "execution_count": 42,
   "id": "549923c6-dc3c-497d-8a84-b5245da36afc",
   "metadata": {},
   "outputs": [],
   "source": [
    "from sklearn.pipeline import Pipeline\n",
    "from sklearn.preprocessing import StandardScaler"
   ]
  },
  {
   "cell_type": "code",
   "execution_count": 43,
   "id": "1ab660d9-4953-4d5c-a82e-51cff1cad870",
   "metadata": {},
   "outputs": [],
   "source": [
    "Input=[('scale',StandardScaler()), ('polynomial', PolynomialFeatures(include_bias=False,degree=5)), ('model',LinearRegression())]"
   ]
  },
  {
   "cell_type": "code",
   "execution_count": 44,
   "id": "046c87aa-9890-4bc8-ad5b-44673f510644",
   "metadata": {},
   "outputs": [
    {
     "data": {
      "text/plain": [
       "Pipeline(steps=[('scale', StandardScaler()),\n",
       "                ('polynomial',\n",
       "                 PolynomialFeatures(degree=5, include_bias=False)),\n",
       "                ('model', LinearRegression())])"
      ]
     },
     "execution_count": 44,
     "metadata": {},
     "output_type": "execute_result"
    }
   ],
   "source": [
    "pipe=Pipeline(Input)\n",
    "pipe"
   ]
  },
  {
   "cell_type": "code",
   "execution_count": 45,
   "id": "6135fa84-ac55-4326-baf6-8b373863e97e",
   "metadata": {},
   "outputs": [],
   "source": [
    "Z = Z.astype(float)\n",
    "a=pipe.fit(Z,X)"
   ]
  },
  {
   "cell_type": "code",
   "execution_count": 46,
   "id": "3ab87361-648e-40bb-bb64-943dae47c8f2",
   "metadata": {},
   "outputs": [],
   "source": [
    "ypipe=pipe.predict(Z)"
   ]
  },
  {
   "cell_type": "code",
   "execution_count": 47,
   "id": "a454d66e-b9b0-47f0-bbd5-058447db7995",
   "metadata": {},
   "outputs": [
    {
     "data": {
      "text/plain": [
       "array([15227.45010158, 15227.45010158, 16556.294662  , 13750.22703869,\n",
       "       17351.06405669, 15191.93822676, 17297.43839527, 19132.63932474,\n",
       "       23899.35032929, 14868.63549845, 14868.63549845, 21200.85848823,\n",
       "       20698.20314458, 24655.01890201, 30752.09091491, 41353.23443166,\n",
       "       36862.16786556,  5148.98699905,  6268.34501584,  6737.02186982,\n",
       "        6348.09518169,  5850.66420186,  7730.25698862,  6396.82462631,\n",
       "        6563.706454  ,  6563.706454  ,  8470.15224986,  8762.4387991 ,\n",
       "       12541.90784861,  6475.14478672,  6831.02829318,  5478.46358948,\n",
       "        6061.07592593,  6894.70189958,  7859.4326015 ,  7706.85854996,\n",
       "        8254.80619598,  8833.47519995,  9005.07933386, 10175.92414249,\n",
       "       15023.92049165, 12290.45404323,  6868.91984756, 11425.50358265,\n",
       "       33899.09942117, 33899.09942117, 35999.94233471,  5219.77081636,\n",
       "        6576.99266795,  6602.90526716,  6791.18660664,  6815.00783594,\n",
       "       11401.8658993 , 11401.8658993 , 13632.37999903, 15643.36749264,\n",
       "        9539.95191508, 10212.26448434,  9539.95191508, 10212.26448434,\n",
       "       10800.63886517, 10632.89013616, 17584.98848723, 18336.26505406,\n",
       "       25829.37922403, 28336.27249086, 27906.74141951, 31507.38100334,\n",
       "       34193.8814266 , 35045.10285673, 40960.655662  , 45399.56400555,\n",
       "       16491.25127157,  4905.43285995,  7161.07633658,  7463.30891634,\n",
       "        8270.05580921,  9664.11963508,  7518.80897491, 13082.72359201,\n",
       "       14670.71235215, 14737.83227139,  8175.35204024,  9047.92009438,\n",
       "        9197.09438245,  9197.09438245,  6370.78806998,  7109.37298265,\n",
       "        6480.49364953,  6631.93972076,  7384.12964519,  6746.58110467,\n",
       "        7413.93774591,  6931.64807167,  7478.80827885,  7258.39480389,\n",
       "        8897.55533519,  9165.80521658, 13517.69472324, 14393.27098575,\n",
       "       13716.42699476, 16748.18974419, 19689.07056347, 18645.4249117 ,\n",
       "       12546.16091129, 13211.71284463, 12785.51372173, 13789.49138254,\n",
       "       15859.459029  , 17427.62154055, 16564.38815751, 17143.36469256,\n",
       "       15486.06874746, 17427.62154055, 18032.11449111,  4886.60933856,\n",
       "        7730.25698862,  6396.82462631,  6563.706454  ,  7468.86115633,\n",
       "        8762.4387991 , 12719.68106484, 21938.53714405, 33269.65345665,\n",
       "       33269.65345665, 37048.32013759, 11351.18178645,  9764.07867259,\n",
       "       12775.15654468, 13072.41666205, 13326.3294989 , 15308.61675483,\n",
       "       18261.07745816, 18520.96099666,  7005.56041095,  6997.50401999,\n",
       "        7574.4018435 ,  7224.5690538 ,  7159.678093  ,  9872.7080489 ,\n",
       "        9220.12136079, 12104.88302029,  8041.27365799, 10452.36387086,\n",
       "        7681.96351349, 11666.87040224,  5881.37783125,  6501.19784862,\n",
       "        5693.14141724,  6970.77218944,  7983.41581759,  8775.05375079,\n",
       "        7806.25638124,  7891.86513964,  7855.30517374,  7777.10251958,\n",
       "        7743.93997534,  8836.26646642,  8688.00356573,  8195.12263304,\n",
       "        7301.76819808,  9867.28033795,  9011.89885071,  9373.00348392,\n",
       "        9305.98244501,  9567.36710984, 11345.01651622, 11443.61330143,\n",
       "       17427.87918798,  9038.69523431, 10765.51838723,  9124.54424975,\n",
       "        9124.54424975,  9918.03532046, 16749.31120315, 15987.28756512,\n",
       "       15412.84557225, 15880.06210029,  7781.6358138 ,  8248.55943384,\n",
       "        7991.6404648 ,  8261.1712209 ,  8764.53766863,  9479.91948372,\n",
       "        9673.93608357, 11878.4948821 ,  9827.20401047, 13463.83939091,\n",
       "       13852.83586429, 12068.8342619 , 14808.79184128, 15610.29323893,\n",
       "       14845.51955681, 15689.71166549, 18369.03845481, 18999.32223968,\n",
       "       14911.67343046, 19072.11701726, 21500.82032222, 22243.37816733,\n",
       "       22792.89140178])"
      ]
     },
     "execution_count": 47,
     "metadata": {},
     "output_type": "execute_result"
    }
   ],
   "source": [
    "ypipe"
   ]
  },
  {
   "cell_type": "code",
   "execution_count": 48,
   "id": "cdd7336e-0979-4ead-a95c-07ef63ae75c7",
   "metadata": {},
   "outputs": [
    {
     "name": "stderr",
     "output_type": "stream",
     "text": [
      "C:\\Users\\victo\\anaconda3\\lib\\site-packages\\seaborn\\distributions.py:2557: FutureWarning: `distplot` is a deprecated function and will be removed in a future version. Please adapt your code to use either `displot` (a figure-level function with similar flexibility) or `kdeplot` (an axes-level function for kernel density plots).\n",
      "  warnings.warn(msg, FutureWarning)\n",
      "C:\\Users\\victo\\anaconda3\\lib\\site-packages\\seaborn\\distributions.py:2557: FutureWarning: `distplot` is a deprecated function and will be removed in a future version. Please adapt your code to use either `displot` (a figure-level function with similar flexibility) or `kdeplot` (an axes-level function for kernel density plots).\n",
      "  warnings.warn(msg, FutureWarning)\n"
     ]
    },
    {
     "data": {
      "image/png": "[encoded data removed]",
      "text/plain": [
       "<Figure size 864x864 with 1 Axes>"
      ]
     },
     "metadata": {
      "needs_background": "light"
     },
     "output_type": "display_data"
    }
   ],
   "source": [
    "plt.figure(figsize=(12,12))\n",
    "\n",
    "\n",
    "sns.distplot(df['price'], hist=False, color=\"r\", label=\"Actual Value\")\n",
    "sns.distplot(ypipe, hist=False, color=\"b\", label=\"Fitted Values\" )\n",
    "\n",
    "plt.legend([\"Actual Values\",\"Fitted Values\"])\n",
    "plt.title('Actual vs Fitted Values for Price')\n",
    "plt.xlabel('Price (in dollars)')\n",
    "plt.ylabel('Proportion of Cars')\n",
    "\n",
    "plt.show()"
   ]
  },
  {
   "cell_type": "code",
   "execution_count": 49,
   "id": "e254ada1-6c0c-4a37-b12c-0a830707f549",
   "metadata": {},
   "outputs": [
    {
     "name": "stdout",
     "output_type": "stream",
     "text": [
      "The R-square value is:  0.9929881115791549\n"
     ]
    }
   ],
   "source": [
    "r_squared = r2_score(X,ypipe)\n",
    "print('The R-square value is: ', r_squared)"
   ]
  },
  {
   "cell_type": "code",
   "execution_count": 17,
   "id": "276d9194-7680-45b2-8848-4257031e8f0d",
   "metadata": {},
   "outputs": [
    {
     "ename": "NameError",
     "evalue": "name 'mean_squared_error' is not defined",
     "output_type": "error",
     "traceback": [
      "\u001b[1;31m---------------------------------------------------------------------------\u001b[0m",
      "\u001b[1;31mNameError\u001b[0m                                 Traceback (most recent call last)",
      "\u001b[1;32m<ipython-input-17-31e6b0eb2ef6>\u001b[0m in \u001b[0;36m<module>\u001b[1;34m\u001b[0m\n\u001b[1;32m----> 1\u001b[1;33m \u001b[0mmean_squared_error\u001b[0m\u001b[1;33m(\u001b[0m\u001b[0mX\u001b[0m\u001b[1;33m,\u001b[0m \u001b[0mypipe\u001b[0m\u001b[1;33m)\u001b[0m\u001b[1;33m\u001b[0m\u001b[1;33m\u001b[0m\u001b[0m\n\u001b[0m",
      "\u001b[1;31mNameError\u001b[0m: name 'mean_squared_error' is not defined"
     ]
    }
   ],
   "source": [
    "mean_squared_error(X, ypipe)"
   ]
  },
  {
   "cell_type": "code",
   "execution_count": null,
   "id": "eff72419-2063-4587-8f89-f51a1b86d239",
   "metadata": {},
   "outputs": [],
   "source": []
  }
 ],
 "metadata": {
  "kernelspec": {
   "display_name": "Python 3",
   "language": "python",
   "name": "python3"
  },
  "language_info": {
   "codemirror_mode": {
    "name": "ipython",
    "version": 3
   },
   "file_extension": ".py",
   "mimetype": "text/x-python",
   "name": "python",
   "nbconvert_exporter": "python",
   "pygments_lexer": "ipython3",
   "version": "3.8.8"
  }
 },
 "nbformat": 4,
 "nbformat_minor": 5
}
